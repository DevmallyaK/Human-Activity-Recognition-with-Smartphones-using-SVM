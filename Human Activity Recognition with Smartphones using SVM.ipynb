{
 "cells": [
  {
   "cell_type": "markdown",
   "id": "856c1f70",
   "metadata": {},
   "source": [
    "# Import the Dependencies"
   ]
  },
  {
   "cell_type": "code",
   "execution_count": null,
   "id": "54265390",
   "metadata": {},
   "outputs": [],
   "source": [
    "import numpy as np\n",
    "import pylab as pl\n",
    "import pandas as pd\n",
    "import matplotlib.pyplot as plt \n",
    "%matplotlib inline\n",
    "import seaborn as sns\n",
    "from sklearn.utils import shuffle\n",
    "from sklearn.svm import SVC\n",
    "from sklearn.metrics import confusion_matrix,classification_report\n",
    "from sklearn.model_selection import cross_val_score, GridSearchCV"
   ]
  },
  {
   "cell_type": "markdown",
   "id": "7b2b8e3b",
   "metadata": {},
   "source": [
    "# Load the dataset"
   ]
  },
  {
   "cell_type": "code",
   "execution_count": 4,
   "id": "c919c1df",
   "metadata": {},
   "outputs": [
    {
     "data": {
      "text/html": [
       "<div>\n",
       "<style scoped>\n",
       "    .dataframe tbody tr th:only-of-type {\n",
       "        vertical-align: middle;\n",
       "    }\n",
       "\n",
       "    .dataframe tbody tr th {\n",
       "        vertical-align: top;\n",
       "    }\n",
       "\n",
       "    .dataframe thead th {\n",
       "        text-align: right;\n",
       "    }\n",
       "</style>\n",
       "<table border=\"1\" class=\"dataframe\">\n",
       "  <thead>\n",
       "    <tr style=\"text-align: right;\">\n",
       "      <th></th>\n",
       "      <th>tBodyAcc-mean()-X</th>\n",
       "      <th>tBodyAcc-mean()-Y</th>\n",
       "      <th>tBodyAcc-mean()-Z</th>\n",
       "      <th>tBodyAcc-std()-X</th>\n",
       "      <th>tBodyAcc-std()-Y</th>\n",
       "      <th>tBodyAcc-std()-Z</th>\n",
       "      <th>tBodyAcc-mad()-X</th>\n",
       "      <th>tBodyAcc-mad()-Y</th>\n",
       "      <th>tBodyAcc-mad()-Z</th>\n",
       "      <th>tBodyAcc-max()-X</th>\n",
       "      <th>...</th>\n",
       "      <th>fBodyBodyGyroJerkMag-kurtosis()</th>\n",
       "      <th>angle(tBodyAccMean,gravity)</th>\n",
       "      <th>angle(tBodyAccJerkMean),gravityMean)</th>\n",
       "      <th>angle(tBodyGyroMean,gravityMean)</th>\n",
       "      <th>angle(tBodyGyroJerkMean,gravityMean)</th>\n",
       "      <th>angle(X,gravityMean)</th>\n",
       "      <th>angle(Y,gravityMean)</th>\n",
       "      <th>angle(Z,gravityMean)</th>\n",
       "      <th>subject</th>\n",
       "      <th>Activity</th>\n",
       "    </tr>\n",
       "  </thead>\n",
       "  <tbody>\n",
       "    <tr>\n",
       "      <th>6345</th>\n",
       "      <td>0.294532</td>\n",
       "      <td>-0.002639</td>\n",
       "      <td>-0.124910</td>\n",
       "      <td>-0.958266</td>\n",
       "      <td>-0.919886</td>\n",
       "      <td>-0.888666</td>\n",
       "      <td>-0.960221</td>\n",
       "      <td>-0.918187</td>\n",
       "      <td>-0.894879</td>\n",
       "      <td>-0.890625</td>\n",
       "      <td>...</td>\n",
       "      <td>-0.377679</td>\n",
       "      <td>-0.086785</td>\n",
       "      <td>-0.368762</td>\n",
       "      <td>-0.394381</td>\n",
       "      <td>-0.039073</td>\n",
       "      <td>0.713713</td>\n",
       "      <td>0.390839</td>\n",
       "      <td>0.842815</td>\n",
       "      <td>28</td>\n",
       "      <td>LAYING</td>\n",
       "    </tr>\n",
       "    <tr>\n",
       "      <th>4416</th>\n",
       "      <td>0.279256</td>\n",
       "      <td>-0.019091</td>\n",
       "      <td>-0.107157</td>\n",
       "      <td>-0.993317</td>\n",
       "      <td>-0.985550</td>\n",
       "      <td>-0.984676</td>\n",
       "      <td>-0.993611</td>\n",
       "      <td>-0.986047</td>\n",
       "      <td>-0.983353</td>\n",
       "      <td>-0.938291</td>\n",
       "      <td>...</td>\n",
       "      <td>-0.783919</td>\n",
       "      <td>-0.013609</td>\n",
       "      <td>0.524977</td>\n",
       "      <td>-0.155650</td>\n",
       "      <td>0.143045</td>\n",
       "      <td>-0.365450</td>\n",
       "      <td>-0.191343</td>\n",
       "      <td>-0.306967</td>\n",
       "      <td>22</td>\n",
       "      <td>SITTING</td>\n",
       "    </tr>\n",
       "    <tr>\n",
       "      <th>4778</th>\n",
       "      <td>0.270516</td>\n",
       "      <td>-0.018687</td>\n",
       "      <td>-0.106661</td>\n",
       "      <td>-0.980296</td>\n",
       "      <td>-0.984012</td>\n",
       "      <td>-0.979764</td>\n",
       "      <td>-0.981795</td>\n",
       "      <td>-0.983237</td>\n",
       "      <td>-0.980693</td>\n",
       "      <td>-0.921831</td>\n",
       "      <td>...</td>\n",
       "      <td>-0.942200</td>\n",
       "      <td>-0.020649</td>\n",
       "      <td>-0.299014</td>\n",
       "      <td>-0.251354</td>\n",
       "      <td>0.132041</td>\n",
       "      <td>0.523182</td>\n",
       "      <td>-0.191934</td>\n",
       "      <td>-0.822794</td>\n",
       "      <td>23</td>\n",
       "      <td>LAYING</td>\n",
       "    </tr>\n",
       "    <tr>\n",
       "      <th>4391</th>\n",
       "      <td>0.277604</td>\n",
       "      <td>-0.012974</td>\n",
       "      <td>-0.103168</td>\n",
       "      <td>-0.993639</td>\n",
       "      <td>-0.909506</td>\n",
       "      <td>-0.941662</td>\n",
       "      <td>-0.994829</td>\n",
       "      <td>-0.923537</td>\n",
       "      <td>-0.943017</td>\n",
       "      <td>-0.936620</td>\n",
       "      <td>...</td>\n",
       "      <td>0.434817</td>\n",
       "      <td>0.069523</td>\n",
       "      <td>-0.107543</td>\n",
       "      <td>0.871253</td>\n",
       "      <td>0.748921</td>\n",
       "      <td>-0.789942</td>\n",
       "      <td>0.231198</td>\n",
       "      <td>-0.042204</td>\n",
       "      <td>22</td>\n",
       "      <td>STANDING</td>\n",
       "    </tr>\n",
       "    <tr>\n",
       "      <th>3448</th>\n",
       "      <td>0.265491</td>\n",
       "      <td>-0.024863</td>\n",
       "      <td>-0.144620</td>\n",
       "      <td>-0.997429</td>\n",
       "      <td>-0.985033</td>\n",
       "      <td>-0.979324</td>\n",
       "      <td>-0.997860</td>\n",
       "      <td>-0.985334</td>\n",
       "      <td>-0.976459</td>\n",
       "      <td>-0.943957</td>\n",
       "      <td>...</td>\n",
       "      <td>-0.816004</td>\n",
       "      <td>0.015019</td>\n",
       "      <td>-0.198841</td>\n",
       "      <td>0.757156</td>\n",
       "      <td>-0.276329</td>\n",
       "      <td>-0.672401</td>\n",
       "      <td>0.317459</td>\n",
       "      <td>0.074217</td>\n",
       "      <td>17</td>\n",
       "      <td>STANDING</td>\n",
       "    </tr>\n",
       "  </tbody>\n",
       "</table>\n",
       "<p>5 rows × 563 columns</p>\n",
       "</div>"
      ],
      "text/plain": [
       "      tBodyAcc-mean()-X  tBodyAcc-mean()-Y  tBodyAcc-mean()-Z  \\\n",
       "6345           0.294532          -0.002639          -0.124910   \n",
       "4416           0.279256          -0.019091          -0.107157   \n",
       "4778           0.270516          -0.018687          -0.106661   \n",
       "4391           0.277604          -0.012974          -0.103168   \n",
       "3448           0.265491          -0.024863          -0.144620   \n",
       "\n",
       "      tBodyAcc-std()-X  tBodyAcc-std()-Y  tBodyAcc-std()-Z  tBodyAcc-mad()-X  \\\n",
       "6345         -0.958266         -0.919886         -0.888666         -0.960221   \n",
       "4416         -0.993317         -0.985550         -0.984676         -0.993611   \n",
       "4778         -0.980296         -0.984012         -0.979764         -0.981795   \n",
       "4391         -0.993639         -0.909506         -0.941662         -0.994829   \n",
       "3448         -0.997429         -0.985033         -0.979324         -0.997860   \n",
       "\n",
       "      tBodyAcc-mad()-Y  tBodyAcc-mad()-Z  tBodyAcc-max()-X  ...  \\\n",
       "6345         -0.918187         -0.894879         -0.890625  ...   \n",
       "4416         -0.986047         -0.983353         -0.938291  ...   \n",
       "4778         -0.983237         -0.980693         -0.921831  ...   \n",
       "4391         -0.923537         -0.943017         -0.936620  ...   \n",
       "3448         -0.985334         -0.976459         -0.943957  ...   \n",
       "\n",
       "      fBodyBodyGyroJerkMag-kurtosis()  angle(tBodyAccMean,gravity)  \\\n",
       "6345                        -0.377679                    -0.086785   \n",
       "4416                        -0.783919                    -0.013609   \n",
       "4778                        -0.942200                    -0.020649   \n",
       "4391                         0.434817                     0.069523   \n",
       "3448                        -0.816004                     0.015019   \n",
       "\n",
       "      angle(tBodyAccJerkMean),gravityMean)  angle(tBodyGyroMean,gravityMean)  \\\n",
       "6345                             -0.368762                         -0.394381   \n",
       "4416                              0.524977                         -0.155650   \n",
       "4778                             -0.299014                         -0.251354   \n",
       "4391                             -0.107543                          0.871253   \n",
       "3448                             -0.198841                          0.757156   \n",
       "\n",
       "      angle(tBodyGyroJerkMean,gravityMean)  angle(X,gravityMean)  \\\n",
       "6345                             -0.039073              0.713713   \n",
       "4416                              0.143045             -0.365450   \n",
       "4778                              0.132041              0.523182   \n",
       "4391                              0.748921             -0.789942   \n",
       "3448                             -0.276329             -0.672401   \n",
       "\n",
       "      angle(Y,gravityMean)  angle(Z,gravityMean)  subject  Activity  \n",
       "6345              0.390839              0.842815       28    LAYING  \n",
       "4416             -0.191343             -0.306967       22   SITTING  \n",
       "4778             -0.191934             -0.822794       23    LAYING  \n",
       "4391              0.231198             -0.042204       22  STANDING  \n",
       "3448              0.317459              0.074217       17  STANDING  \n",
       "\n",
       "[5 rows x 563 columns]"
      ]
     },
     "execution_count": 4,
     "metadata": {},
     "output_type": "execute_result"
    }
   ],
   "source": [
    "df_train = shuffle(pd.read_csv('C:/Users/Devmallya Karar/Downloads/Human Activity Recognition with Smartphones using SVM/train.csv'))\n",
    "df_train.head()"
   ]
  },
  {
   "cell_type": "code",
   "execution_count": 5,
   "id": "984af6f1",
   "metadata": {},
   "outputs": [
    {
     "data": {
      "text/html": [
       "<div>\n",
       "<style scoped>\n",
       "    .dataframe tbody tr th:only-of-type {\n",
       "        vertical-align: middle;\n",
       "    }\n",
       "\n",
       "    .dataframe tbody tr th {\n",
       "        vertical-align: top;\n",
       "    }\n",
       "\n",
       "    .dataframe thead th {\n",
       "        text-align: right;\n",
       "    }\n",
       "</style>\n",
       "<table border=\"1\" class=\"dataframe\">\n",
       "  <thead>\n",
       "    <tr style=\"text-align: right;\">\n",
       "      <th></th>\n",
       "      <th>tBodyAcc-mean()-X</th>\n",
       "      <th>tBodyAcc-mean()-Y</th>\n",
       "      <th>tBodyAcc-mean()-Z</th>\n",
       "      <th>tBodyAcc-std()-X</th>\n",
       "      <th>tBodyAcc-std()-Y</th>\n",
       "      <th>tBodyAcc-std()-Z</th>\n",
       "      <th>tBodyAcc-mad()-X</th>\n",
       "      <th>tBodyAcc-mad()-Y</th>\n",
       "      <th>tBodyAcc-mad()-Z</th>\n",
       "      <th>tBodyAcc-max()-X</th>\n",
       "      <th>...</th>\n",
       "      <th>fBodyBodyGyroJerkMag-kurtosis()</th>\n",
       "      <th>angle(tBodyAccMean,gravity)</th>\n",
       "      <th>angle(tBodyAccJerkMean),gravityMean)</th>\n",
       "      <th>angle(tBodyGyroMean,gravityMean)</th>\n",
       "      <th>angle(tBodyGyroJerkMean,gravityMean)</th>\n",
       "      <th>angle(X,gravityMean)</th>\n",
       "      <th>angle(Y,gravityMean)</th>\n",
       "      <th>angle(Z,gravityMean)</th>\n",
       "      <th>subject</th>\n",
       "      <th>Activity</th>\n",
       "    </tr>\n",
       "  </thead>\n",
       "  <tbody>\n",
       "    <tr>\n",
       "      <th>1696</th>\n",
       "      <td>0.279694</td>\n",
       "      <td>-0.002717</td>\n",
       "      <td>-0.107911</td>\n",
       "      <td>-0.988935</td>\n",
       "      <td>-0.935707</td>\n",
       "      <td>-0.929419</td>\n",
       "      <td>-0.989691</td>\n",
       "      <td>-0.938183</td>\n",
       "      <td>-0.919637</td>\n",
       "      <td>-0.930062</td>\n",
       "      <td>...</td>\n",
       "      <td>-0.706148</td>\n",
       "      <td>0.077354</td>\n",
       "      <td>-0.090078</td>\n",
       "      <td>0.811081</td>\n",
       "      <td>0.897070</td>\n",
       "      <td>-0.803593</td>\n",
       "      <td>0.215370</td>\n",
       "      <td>-0.053176</td>\n",
       "      <td>13</td>\n",
       "      <td>STANDING</td>\n",
       "    </tr>\n",
       "    <tr>\n",
       "      <th>2779</th>\n",
       "      <td>0.276247</td>\n",
       "      <td>-0.012142</td>\n",
       "      <td>-0.110010</td>\n",
       "      <td>-0.995456</td>\n",
       "      <td>-0.981576</td>\n",
       "      <td>-0.971507</td>\n",
       "      <td>-0.996346</td>\n",
       "      <td>-0.980507</td>\n",
       "      <td>-0.967642</td>\n",
       "      <td>-0.939279</td>\n",
       "      <td>...</td>\n",
       "      <td>-0.880821</td>\n",
       "      <td>0.141465</td>\n",
       "      <td>0.007248</td>\n",
       "      <td>0.087822</td>\n",
       "      <td>0.128716</td>\n",
       "      <td>-0.803470</td>\n",
       "      <td>0.195761</td>\n",
       "      <td>0.116133</td>\n",
       "      <td>24</td>\n",
       "      <td>STANDING</td>\n",
       "    </tr>\n",
       "    <tr>\n",
       "      <th>2190</th>\n",
       "      <td>0.296648</td>\n",
       "      <td>-0.022489</td>\n",
       "      <td>-0.067332</td>\n",
       "      <td>-0.424008</td>\n",
       "      <td>-0.195761</td>\n",
       "      <td>-0.239343</td>\n",
       "      <td>-0.463153</td>\n",
       "      <td>-0.269152</td>\n",
       "      <td>-0.263449</td>\n",
       "      <td>-0.227032</td>\n",
       "      <td>...</td>\n",
       "      <td>-0.925483</td>\n",
       "      <td>-0.008094</td>\n",
       "      <td>0.703160</td>\n",
       "      <td>0.934411</td>\n",
       "      <td>0.749145</td>\n",
       "      <td>-0.564664</td>\n",
       "      <td>0.303389</td>\n",
       "      <td>0.240133</td>\n",
       "      <td>18</td>\n",
       "      <td>WALKING_UPSTAIRS</td>\n",
       "    </tr>\n",
       "    <tr>\n",
       "      <th>521</th>\n",
       "      <td>0.357710</td>\n",
       "      <td>-0.035391</td>\n",
       "      <td>-0.103498</td>\n",
       "      <td>-0.938105</td>\n",
       "      <td>-0.911146</td>\n",
       "      <td>-0.952872</td>\n",
       "      <td>-0.939084</td>\n",
       "      <td>-0.911805</td>\n",
       "      <td>-0.958296</td>\n",
       "      <td>-0.852659</td>\n",
       "      <td>...</td>\n",
       "      <td>-0.189030</td>\n",
       "      <td>0.298035</td>\n",
       "      <td>-0.703922</td>\n",
       "      <td>-0.125585</td>\n",
       "      <td>0.197664</td>\n",
       "      <td>0.546867</td>\n",
       "      <td>-0.881243</td>\n",
       "      <td>-0.106545</td>\n",
       "      <td>4</td>\n",
       "      <td>LAYING</td>\n",
       "    </tr>\n",
       "    <tr>\n",
       "      <th>871</th>\n",
       "      <td>0.296720</td>\n",
       "      <td>-0.041996</td>\n",
       "      <td>-0.114393</td>\n",
       "      <td>0.274215</td>\n",
       "      <td>-0.364836</td>\n",
       "      <td>0.261395</td>\n",
       "      <td>0.174077</td>\n",
       "      <td>-0.407135</td>\n",
       "      <td>0.244064</td>\n",
       "      <td>0.613006</td>\n",
       "      <td>...</td>\n",
       "      <td>0.012460</td>\n",
       "      <td>-0.177369</td>\n",
       "      <td>0.797682</td>\n",
       "      <td>0.933456</td>\n",
       "      <td>0.655934</td>\n",
       "      <td>-0.800405</td>\n",
       "      <td>0.076244</td>\n",
       "      <td>0.161622</td>\n",
       "      <td>9</td>\n",
       "      <td>WALKING_DOWNSTAIRS</td>\n",
       "    </tr>\n",
       "  </tbody>\n",
       "</table>\n",
       "<p>5 rows × 563 columns</p>\n",
       "</div>"
      ],
      "text/plain": [
       "      tBodyAcc-mean()-X  tBodyAcc-mean()-Y  tBodyAcc-mean()-Z  \\\n",
       "1696           0.279694          -0.002717          -0.107911   \n",
       "2779           0.276247          -0.012142          -0.110010   \n",
       "2190           0.296648          -0.022489          -0.067332   \n",
       "521            0.357710          -0.035391          -0.103498   \n",
       "871            0.296720          -0.041996          -0.114393   \n",
       "\n",
       "      tBodyAcc-std()-X  tBodyAcc-std()-Y  tBodyAcc-std()-Z  tBodyAcc-mad()-X  \\\n",
       "1696         -0.988935         -0.935707         -0.929419         -0.989691   \n",
       "2779         -0.995456         -0.981576         -0.971507         -0.996346   \n",
       "2190         -0.424008         -0.195761         -0.239343         -0.463153   \n",
       "521          -0.938105         -0.911146         -0.952872         -0.939084   \n",
       "871           0.274215         -0.364836          0.261395          0.174077   \n",
       "\n",
       "      tBodyAcc-mad()-Y  tBodyAcc-mad()-Z  tBodyAcc-max()-X  ...  \\\n",
       "1696         -0.938183         -0.919637         -0.930062  ...   \n",
       "2779         -0.980507         -0.967642         -0.939279  ...   \n",
       "2190         -0.269152         -0.263449         -0.227032  ...   \n",
       "521          -0.911805         -0.958296         -0.852659  ...   \n",
       "871          -0.407135          0.244064          0.613006  ...   \n",
       "\n",
       "      fBodyBodyGyroJerkMag-kurtosis()  angle(tBodyAccMean,gravity)  \\\n",
       "1696                        -0.706148                     0.077354   \n",
       "2779                        -0.880821                     0.141465   \n",
       "2190                        -0.925483                    -0.008094   \n",
       "521                         -0.189030                     0.298035   \n",
       "871                          0.012460                    -0.177369   \n",
       "\n",
       "      angle(tBodyAccJerkMean),gravityMean)  angle(tBodyGyroMean,gravityMean)  \\\n",
       "1696                             -0.090078                          0.811081   \n",
       "2779                              0.007248                          0.087822   \n",
       "2190                              0.703160                          0.934411   \n",
       "521                              -0.703922                         -0.125585   \n",
       "871                               0.797682                          0.933456   \n",
       "\n",
       "      angle(tBodyGyroJerkMean,gravityMean)  angle(X,gravityMean)  \\\n",
       "1696                              0.897070             -0.803593   \n",
       "2779                              0.128716             -0.803470   \n",
       "2190                              0.749145             -0.564664   \n",
       "521                               0.197664              0.546867   \n",
       "871                               0.655934             -0.800405   \n",
       "\n",
       "      angle(Y,gravityMean)  angle(Z,gravityMean)  subject            Activity  \n",
       "1696              0.215370             -0.053176       13            STANDING  \n",
       "2779              0.195761              0.116133       24            STANDING  \n",
       "2190              0.303389              0.240133       18    WALKING_UPSTAIRS  \n",
       "521              -0.881243             -0.106545        4              LAYING  \n",
       "871               0.076244              0.161622        9  WALKING_DOWNSTAIRS  \n",
       "\n",
       "[5 rows x 563 columns]"
      ]
     },
     "execution_count": 5,
     "metadata": {},
     "output_type": "execute_result"
    }
   ],
   "source": [
    "df_test = shuffle(pd.read_csv('C:/Users/Devmallya Karar/Downloads/Human Activity Recognition with Smartphones using SVM/test.csv'))\n",
    "df_test.head()"
   ]
  },
  {
   "cell_type": "markdown",
   "id": "4f4b6a94",
   "metadata": {},
   "source": [
    "# Check the null values"
   ]
  },
  {
   "cell_type": "code",
   "execution_count": 6,
   "id": "acf91c9a",
   "metadata": {},
   "outputs": [
    {
     "name": "stdout",
     "output_type": "stream",
     "text": [
      "Any missing sample in training set: False\n",
      "Any missing sample in test set: False\n"
     ]
    }
   ],
   "source": [
    "print(\"Any missing sample in training set:\",df_train.isnull().values.any())\n",
    "print(\"Any missing sample in test set:\",df_test.isnull().values.any())"
   ]
  },
  {
   "cell_type": "markdown",
   "id": "529ffadf",
   "metadata": {},
   "source": [
    "# Frequency distribution of classes"
   ]
  },
  {
   "cell_type": "code",
   "execution_count": 8,
   "id": "a9eeb5a5",
   "metadata": {},
   "outputs": [
    {
     "data": {
      "text/html": [
       "<div>\n",
       "<style scoped>\n",
       "    .dataframe tbody tr th:only-of-type {\n",
       "        vertical-align: middle;\n",
       "    }\n",
       "\n",
       "    .dataframe tbody tr th {\n",
       "        vertical-align: top;\n",
       "    }\n",
       "\n",
       "    .dataframe thead th {\n",
       "        text-align: right;\n",
       "    }\n",
       "</style>\n",
       "<table border=\"1\" class=\"dataframe\">\n",
       "  <thead>\n",
       "    <tr style=\"text-align: right;\">\n",
       "      <th>col_0</th>\n",
       "      <th>count</th>\n",
       "    </tr>\n",
       "    <tr>\n",
       "      <th>Activity</th>\n",
       "      <th></th>\n",
       "    </tr>\n",
       "  </thead>\n",
       "  <tbody>\n",
       "    <tr>\n",
       "      <th>LAYING</th>\n",
       "      <td>1407</td>\n",
       "    </tr>\n",
       "    <tr>\n",
       "      <th>SITTING</th>\n",
       "      <td>1286</td>\n",
       "    </tr>\n",
       "    <tr>\n",
       "      <th>STANDING</th>\n",
       "      <td>1374</td>\n",
       "    </tr>\n",
       "    <tr>\n",
       "      <th>WALKING</th>\n",
       "      <td>1226</td>\n",
       "    </tr>\n",
       "    <tr>\n",
       "      <th>WALKING_DOWNSTAIRS</th>\n",
       "      <td>986</td>\n",
       "    </tr>\n",
       "    <tr>\n",
       "      <th>WALKING_UPSTAIRS</th>\n",
       "      <td>1073</td>\n",
       "    </tr>\n",
       "  </tbody>\n",
       "</table>\n",
       "</div>"
      ],
      "text/plain": [
       "col_0               count\n",
       "Activity                 \n",
       "LAYING               1407\n",
       "SITTING              1286\n",
       "STANDING             1374\n",
       "WALKING              1226\n",
       "WALKING_DOWNSTAIRS    986\n",
       "WALKING_UPSTAIRS     1073"
      ]
     },
     "execution_count": 8,
     "metadata": {},
     "output_type": "execute_result"
    }
   ],
   "source": [
    "train_outcome = pd.crosstab(index=df_train[\"Activity\"], columns=\"count\")\n",
    "train_outcome"
   ]
  },
  {
   "cell_type": "markdown",
   "id": "af49193d",
   "metadata": {},
   "source": [
    "# Train Test Split"
   ]
  },
  {
   "cell_type": "code",
   "execution_count": 9,
   "id": "8fcd4dcb",
   "metadata": {},
   "outputs": [],
   "source": [
    "X_train = pd.DataFrame(df_train.drop(['Activity','subject'],axis=1))\n",
    "Y_train_label = df_train.Activity.values.astype(object)\n",
    "X_test = pd.DataFrame(df_test.drop(['Activity','subject'],axis=1))\n",
    "Y_test_label = df_test.Activity.values.astype(object)"
   ]
  },
  {
   "cell_type": "code",
   "execution_count": 10,
   "id": "696c778d",
   "metadata": {},
   "outputs": [
    {
     "name": "stdout",
     "output_type": "stream",
     "text": [
      "Dimension of Train set (7352, 561)\n",
      "Dimension of Test set (2947, 561)\n"
     ]
    }
   ],
   "source": [
    "print(\"Dimension of Train set\",X_train.shape)\n",
    "print(\"Dimension of Test set\",X_test.shape)"
   ]
  },
  {
   "cell_type": "markdown",
   "id": "8aa06d27",
   "metadata": {},
   "source": [
    "# Data Preprocessing"
   ]
  },
  {
   "cell_type": "code",
   "execution_count": 11,
   "id": "f2d28f85",
   "metadata": {},
   "outputs": [],
   "source": [
    "from sklearn import preprocessing\n",
    "encoder = preprocessing.LabelEncoder()"
   ]
  },
  {
   "cell_type": "code",
   "execution_count": 12,
   "id": "da39fcb8",
   "metadata": {},
   "outputs": [],
   "source": [
    "encoder.fit(Y_train_label)\n",
    "Y_train = encoder.transform(Y_train_label)"
   ]
  },
  {
   "cell_type": "code",
   "execution_count": 13,
   "id": "c6cc56b8",
   "metadata": {},
   "outputs": [],
   "source": [
    "encoder.fit(Y_test_label)\n",
    "Y_test = encoder.transform(Y_test_label)"
   ]
  },
  {
   "cell_type": "code",
   "execution_count": 14,
   "id": "9da0f9de",
   "metadata": {},
   "outputs": [
    {
     "name": "stdout",
     "output_type": "stream",
     "text": [
      "Number of numeric features: 561\n"
     ]
    }
   ],
   "source": [
    "num_cols = X_train._get_numeric_data().columns\n",
    "print(\"Number of numeric features:\",num_cols.size)"
   ]
  },
  {
   "cell_type": "code",
   "execution_count": 15,
   "id": "a62ab275",
   "metadata": {},
   "outputs": [],
   "source": [
    "names_of_predictors = list(X_train.columns.values)"
   ]
  },
  {
   "cell_type": "code",
   "execution_count": 16,
   "id": "7bd906c9",
   "metadata": {},
   "outputs": [],
   "source": [
    "from sklearn.preprocessing import StandardScaler\n",
    "scaler = StandardScaler()\n",
    "X_train_scaled = scaler.fit_transform(X_train)\n",
    "X_test_scaled = scaler.transform(X_test)"
   ]
  },
  {
   "cell_type": "markdown",
   "id": "e394fd87",
   "metadata": {},
   "source": [
    "# Model Building"
   ]
  },
  {
   "cell_type": "code",
   "execution_count": 17,
   "id": "1d6e3ae6",
   "metadata": {},
   "outputs": [],
   "source": [
    "# Hyperparameter tuning using grid search and cross validation"
   ]
  },
  {
   "cell_type": "code",
   "execution_count": 18,
   "id": "aa9d4610",
   "metadata": {},
   "outputs": [],
   "source": [
    "params_grid = [{'kernel': ['rbf'], \n",
    "                'gamma': [1e-3, 1e-4],\n",
    "                'C': [1, 10, 100, 1000]},\n",
    "                {'kernel': ['linear'], 'C': [1, 10, 100, 1000]}]"
   ]
  },
  {
   "cell_type": "code",
   "execution_count": 19,
   "id": "253b8c03",
   "metadata": {},
   "outputs": [
    {
     "data": {
      "text/plain": [
       "GridSearchCV(cv=5, estimator=SVC(),\n",
       "             param_grid=[{'C': [1, 10, 100, 1000], 'gamma': [0.001, 0.0001],\n",
       "                          'kernel': ['rbf']},\n",
       "                         {'C': [1, 10, 100, 1000], 'kernel': ['linear']}])"
      ]
     },
     "execution_count": 19,
     "metadata": {},
     "output_type": "execute_result"
    }
   ],
   "source": [
    "svm_model = GridSearchCV(SVC(), params_grid, cv=5)\n",
    "svm_model.fit(X_train_scaled, Y_train)"
   ]
  },
  {
   "cell_type": "code",
   "execution_count": 20,
   "id": "7cdc0a88",
   "metadata": {},
   "outputs": [
    {
     "name": "stdout",
     "output_type": "stream",
     "text": [
      "Best score for training data: 0.9877588941762973\n"
     ]
    }
   ],
   "source": [
    "print('Best score for training data:', svm_model.best_score_)"
   ]
  },
  {
   "cell_type": "code",
   "execution_count": 21,
   "id": "97599bdc",
   "metadata": {},
   "outputs": [
    {
     "name": "stdout",
     "output_type": "stream",
     "text": [
      "Best C: 100 \n",
      "\n",
      "Best Kernel: rbf \n",
      "\n",
      "Best Gamma: 0.001 \n",
      "\n"
     ]
    }
   ],
   "source": [
    "print('Best C:',svm_model.best_estimator_.C,\"\\n\") \n",
    "print('Best Kernel:',svm_model.best_estimator_.kernel,\"\\n\")\n",
    "print('Best Gamma:',svm_model.best_estimator_.gamma,\"\\n\")"
   ]
  },
  {
   "cell_type": "code",
   "execution_count": 22,
   "id": "529b6c70",
   "metadata": {},
   "outputs": [],
   "source": [
    "final_model = svm_model.best_estimator_\n",
    "Y_pred = final_model.predict(X_test_scaled)\n",
    "Y_pred_label = list(encoder.inverse_transform(Y_pred))"
   ]
  },
  {
   "cell_type": "markdown",
   "id": "6417963f",
   "metadata": {},
   "source": [
    "# Evaluation"
   ]
  },
  {
   "cell_type": "code",
   "execution_count": 23,
   "id": "12eaa201",
   "metadata": {},
   "outputs": [
    {
     "name": "stdout",
     "output_type": "stream",
     "text": [
      "[[537   0   0   0   0   0]\n",
      " [  3 440  47   0   0   1]\n",
      " [  0  13 519   0   0   0]\n",
      " [  0   0   0 486   4   6]\n",
      " [  0   0   0   6 389  25]\n",
      " [  0   0   0  15   2 454]]\n"
     ]
    }
   ],
   "source": [
    "print(confusion_matrix(Y_test_label,Y_pred_label))"
   ]
  },
  {
   "cell_type": "code",
   "execution_count": 24,
   "id": "6d16428d",
   "metadata": {},
   "outputs": [
    {
     "name": "stdout",
     "output_type": "stream",
     "text": [
      "                    precision    recall  f1-score   support\n",
      "\n",
      "            LAYING       0.99      1.00      1.00       537\n",
      "           SITTING       0.97      0.90      0.93       491\n",
      "          STANDING       0.92      0.98      0.95       532\n",
      "           WALKING       0.96      0.98      0.97       496\n",
      "WALKING_DOWNSTAIRS       0.98      0.93      0.95       420\n",
      "  WALKING_UPSTAIRS       0.93      0.96      0.95       471\n",
      "\n",
      "          accuracy                           0.96      2947\n",
      "         macro avg       0.96      0.96      0.96      2947\n",
      "      weighted avg       0.96      0.96      0.96      2947\n",
      "\n"
     ]
    }
   ],
   "source": [
    "print(classification_report(Y_test_label,Y_pred_label))"
   ]
  },
  {
   "cell_type": "code",
   "execution_count": 25,
   "id": "95f28275",
   "metadata": {},
   "outputs": [
    {
     "name": "stdout",
     "output_type": "stream",
     "text": [
      "Training set score for SVM: 1.000000\n",
      "Testing  set score for SVM: 0.958602\n"
     ]
    }
   ],
   "source": [
    "print(\"Training set score for SVM: %f\" % final_model.score(X_train_scaled , Y_train))\n",
    "print(\"Testing  set score for SVM: %f\" % final_model.score(X_test_scaled  , Y_test ))"
   ]
  },
  {
   "cell_type": "code",
   "execution_count": null,
   "id": "c2e8d2a5",
   "metadata": {},
   "outputs": [],
   "source": []
  }
 ],
 "metadata": {
  "kernelspec": {
   "display_name": "Python 3 (ipykernel)",
   "language": "python",
   "name": "python3"
  },
  "language_info": {
   "codemirror_mode": {
    "name": "ipython",
    "version": 3
   },
   "file_extension": ".py",
   "mimetype": "text/x-python",
   "name": "python",
   "nbconvert_exporter": "python",
   "pygments_lexer": "ipython3",
   "version": "3.8.8"
  }
 },
 "nbformat": 4,
 "nbformat_minor": 5
}
